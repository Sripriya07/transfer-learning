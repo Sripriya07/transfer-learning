{
  "nbformat": 4,
  "nbformat_minor": 0,
  "metadata": {
    "colab": {
      "name": "transfer learning.ipynb",
      "version": "0.3.2",
      "provenance": [],
      "collapsed_sections": [],
      "include_colab_link": true
    },
    "kernelspec": {
      "name": "python3",
      "display_name": "Python 3"
    }
  },
  "cells": [
    {
      "cell_type": "markdown",
      "metadata": {
        "id": "view-in-github",
        "colab_type": "text"
      },
      "source": [
        "<a href=\"https://colab.research.google.com/github/Sripriya07/transfer-learning/blob/master/transfer_learning.ipynb\" target=\"_parent\"><img src=\"https://colab.research.google.com/assets/colab-badge.svg\" alt=\"Open In Colab\"/></a>"
      ]
    },
    {
      "cell_type": "code",
      "metadata": {
        "id": "BmMIPYyhnEgH",
        "colab_type": "code",
        "colab": {}
      },
      "source": [
        "import matplotlib.pyplot as plt\n",
        "import numpy as np\n",
        "%matplotlib inline"
      ],
      "execution_count": 0,
      "outputs": []
    },
    {
      "cell_type": "code",
      "metadata": {
        "id": "ptgd7YYmnJtX",
        "colab_type": "code",
        "colab": {}
      },
      "source": [
        "from keras.datasets import mnist\n",
        "from keras.layers import Dense,Activation,Dropout,Conv2D,MaxPool2D,Flatten"
      ],
      "execution_count": 0,
      "outputs": []
    },
    {
      "cell_type": "code",
      "metadata": {
        "id": "TC6PDa2BncrH",
        "colab_type": "code",
        "colab": {}
      },
      "source": [
        "from keras.models import Sequential\n",
        "from keras.utils import np_utils"
      ],
      "execution_count": 0,
      "outputs": []
    },
    {
      "cell_type": "code",
      "metadata": {
        "id": "Dx7Q75HonkJa",
        "colab_type": "code",
        "colab": {}
      },
      "source": [
        "(x_train,y_train),(x_test,y_test)=mnist.load_data()"
      ],
      "execution_count": 0,
      "outputs": []
    },
    {
      "cell_type": "code",
      "metadata": {
        "id": "9iXitv04nrvb",
        "colab_type": "code",
        "colab": {}
      },
      "source": [
        "x1_train=[]\n",
        "x1_test=[]\n",
        "x2_train=[]\n",
        "x2_test=[]\n",
        "\n",
        "y1_train=[]\n",
        "y1_test=[]\n",
        "y2_train=[]\n",
        "y2_test=[]\n",
        "\n",
        "num_examples=20000\n",
        "for i in range(num_examples):\n",
        "  if y_train[i]<5:\n",
        "    x1_train.append(x_train[i]/255)\n",
        "    y1_train.append(y_train[i])\n",
        "  else:\n",
        "    x2_train.append(x_train[i]/255)\n",
        "    y2_train.append(y_train[i])\n",
        "    \n",
        "#d\n",
        " \n",
        "num_examples1=y_test.shape[0]\n",
        "for i in range(num_examples1):\n",
        "  if y_test[i]<5:\n",
        "    x1_test.append(x_test[i]/255)\n",
        "    y1_test.append(y_test[i])\n",
        "  else:\n",
        "    x2_test.append(x_test[i]/255)\n",
        "    y2_test.append(y_test[i])\n",
        "    "
      ],
      "execution_count": 0,
      "outputs": []
    },
    {
      "cell_type": "code",
      "metadata": {
        "id": "c7XDjW91or3o",
        "colab_type": "code",
        "colab": {}
      },
      "source": [
        "X1_train=np.asarray(x1_train).reshape(-1,28,28,1)\n",
        "X1_test=np.asarray(x1_test).reshape(-1,28,28,1)\n",
        "\n",
        "X2_train=np.asarray(x2_train).reshape(-1,28,28,1)\n",
        "X2_test=np.asarray(x2_test).reshape(-1,28,28,1)\n",
        "\n",
        "Y1_train=np_utils.to_categorical(np.asarray(y1_train),num_classes=5)\n",
        "Y1_test=np_utils.to_categorical(np.asarray(y1_test),num_classes=5)\n",
        "\n",
        "Y2_train=np_utils.to_categorical(np.asarray(y2_train),num_classes=10)\n",
        "Y2_test=np_utils.to_categorical(np.asarray(y2_test),num_classes=10)"
      ],
      "execution_count": 0,
      "outputs": []
    },
    {
      "cell_type": "code",
      "metadata": {
        "id": "GgrMnYN0qP4R",
        "colab_type": "code",
        "outputId": "4719d365-16b4-4b87-f2c5-62870c41f402",
        "colab": {
          "base_uri": "https://localhost:8080/",
          "height": 86
        }
      },
      "source": [
        "print(X1_train.shape,X1_test.shape)\n",
        "print(Y1_train.shape,Y1_test.shape)\n",
        "\n",
        "print(X2_train.shape,X2_test.shape)\n",
        "print(Y2_train.shape,Y2_test.shape)"
      ],
      "execution_count": 0,
      "outputs": [
        {
          "output_type": "stream",
          "text": [
            "(10225, 28, 28, 1) (5139, 28, 28, 1)\n",
            "(10225, 5) (5139, 5)\n",
            "(9775, 28, 28, 1) (4861, 28, 28, 1)\n",
            "(9775, 10) (4861, 10)\n"
          ],
          "name": "stdout"
        }
      ]
    },
    {
      "cell_type": "code",
      "metadata": {
        "id": "-NYTFLx6qxLn",
        "colab_type": "code",
        "outputId": "719456c4-1305-4554-9bea-f0cd10cf2e24",
        "colab": {
          "base_uri": "https://localhost:8080/",
          "height": 484
        }
      },
      "source": [
        "model=Sequential()\n",
        "model.add(Conv2D(32,5,input_shape=(28,28,1),activation='relu')) #(24,24,32)\n",
        "model.add(Conv2D(16,5,activation='relu')) #(20,20,16)\n",
        "model.add(MaxPool2D(pool_size=(2,2)))#(10,10,16)\n",
        "model.add(Conv2D(8,3,activation='relu'))#(8,8,8)\n",
        "\n",
        "model.add(Flatten()) #(512)\n",
        "\n",
        "model.add(Dropout(0.4)) \n",
        "model.add(Dense(128))\n",
        "model.add(Activation('relu'))\n",
        "model.add(Dense(5))\n",
        "model.add(Activation('softmax'))\n",
        "\n",
        "model.summary()\n"
      ],
      "execution_count": 0,
      "outputs": [
        {
          "output_type": "stream",
          "text": [
            "_________________________________________________________________\n",
            "Layer (type)                 Output Shape              Param #   \n",
            "=================================================================\n",
            "conv2d_16 (Conv2D)           (None, 24, 24, 32)        832       \n",
            "_________________________________________________________________\n",
            "conv2d_17 (Conv2D)           (None, 20, 20, 16)        12816     \n",
            "_________________________________________________________________\n",
            "max_pooling2d_5 (MaxPooling2 (None, 10, 10, 16)        0         \n",
            "_________________________________________________________________\n",
            "conv2d_18 (Conv2D)           (None, 8, 8, 8)           1160      \n",
            "_________________________________________________________________\n",
            "flatten_5 (Flatten)          (None, 512)               0         \n",
            "_________________________________________________________________\n",
            "dropout_5 (Dropout)          (None, 512)               0         \n",
            "_________________________________________________________________\n",
            "dense_15 (Dense)             (None, 128)               65664     \n",
            "_________________________________________________________________\n",
            "activation_15 (Activation)   (None, 128)               0         \n",
            "_________________________________________________________________\n",
            "dense_16 (Dense)             (None, 5)                 645       \n",
            "_________________________________________________________________\n",
            "activation_16 (Activation)   (None, 5)                 0         \n",
            "=================================================================\n",
            "Total params: 81,117\n",
            "Trainable params: 81,117\n",
            "Non-trainable params: 0\n",
            "_________________________________________________________________\n"
          ],
          "name": "stdout"
        }
      ]
    },
    {
      "cell_type": "code",
      "metadata": {
        "id": "w_NrQwMqbQrK",
        "colab_type": "code",
        "colab": {}
      },
      "source": [
        "model.compile(loss='categorical_crossentropy',\n",
        "              optimizer='adam',\n",
        "              metrics=['accuracy']\n",
        "             )"
      ],
      "execution_count": 0,
      "outputs": []
    },
    {
      "cell_type": "code",
      "metadata": {
        "id": "EwH7WwEqcwdY",
        "colab_type": "code",
        "outputId": "d1d9c30e-43a8-4d1a-bfa6-bfbf9cec59cf",
        "colab": {
          "base_uri": "https://localhost:8080/",
          "height": 34
        }
      },
      "source": [
        "import time\n",
        "import datetime\n",
        "\n",
        "start=datetime.datetime.now()\n",
        "time.sleep(5)\n",
        "end=datetime.datetime.now()\n",
        "print(end-start)"
      ],
      "execution_count": 0,
      "outputs": [
        {
          "output_type": "stream",
          "text": [
            "0:00:05.003133\n"
          ],
          "name": "stdout"
        }
      ]
    },
    {
      "cell_type": "code",
      "metadata": {
        "id": "UXPCoIJydAST",
        "colab_type": "code",
        "outputId": "59f914dc-14dd-41c5-ca54-a3919834e32f",
        "colab": {
          "base_uri": "https://localhost:8080/",
          "height": 432
        }
      },
      "source": [
        "start =datetime.datetime.now()\n",
        "\n",
        "model.fit(X1_train,Y1_train,\n",
        "          nb_epoch=10,\n",
        "          shuffle=True,\n",
        "          batch_size=100,\n",
        "          validation_data=(X1_test,Y1_test),\n",
        "          verbose=2\n",
        "         )\n",
        "\n",
        "end=datetime.datetime.now()\n",
        "print(end-start)"
      ],
      "execution_count": 0,
      "outputs": [
        {
          "output_type": "stream",
          "text": [
            "/usr/local/lib/python3.6/dist-packages/ipykernel_launcher.py:8: UserWarning: The `nb_epoch` argument in `fit` has been renamed `epochs`.\n",
            "  \n"
          ],
          "name": "stderr"
        },
        {
          "output_type": "stream",
          "text": [
            "Train on 10225 samples, validate on 5139 samples\n",
            "Epoch 1/10\n",
            " - 25s - loss: 0.3252 - acc: 0.8925 - val_loss: 0.0509 - val_acc: 0.9852\n",
            "Epoch 2/10\n",
            " - 24s - loss: 0.0854 - acc: 0.9745 - val_loss: 0.0297 - val_acc: 0.9897\n",
            "Epoch 3/10\n",
            " - 25s - loss: 0.0584 - acc: 0.9821 - val_loss: 0.0268 - val_acc: 0.9909\n",
            "Epoch 4/10\n",
            " - 24s - loss: 0.0424 - acc: 0.9862 - val_loss: 0.0206 - val_acc: 0.9944\n",
            "Epoch 5/10\n",
            " - 24s - loss: 0.0429 - acc: 0.9849 - val_loss: 0.0155 - val_acc: 0.9951\n",
            "Epoch 6/10\n",
            " - 24s - loss: 0.0301 - acc: 0.9905 - val_loss: 0.0150 - val_acc: 0.9953\n",
            "Epoch 7/10\n",
            " - 24s - loss: 0.0265 - acc: 0.9918 - val_loss: 0.0097 - val_acc: 0.9963\n",
            "Epoch 8/10\n",
            " - 24s - loss: 0.0218 - acc: 0.9930 - val_loss: 0.0121 - val_acc: 0.9951\n",
            "Epoch 9/10\n",
            " - 24s - loss: 0.0196 - acc: 0.9937 - val_loss: 0.0102 - val_acc: 0.9965\n",
            "Epoch 10/10\n",
            " - 24s - loss: 0.0151 - acc: 0.9943 - val_loss: 0.0089 - val_acc: 0.9971\n",
            "0:04:04.518097\n"
          ],
          "name": "stdout"
        }
      ]
    },
    {
      "cell_type": "code",
      "metadata": {
        "id": "0x8-RFMidyfP",
        "colab_type": "code",
        "outputId": "573461ba-7752-4e10-ae3f-858610aa78dc",
        "colab": {
          "base_uri": "https://localhost:8080/",
          "height": 190
        }
      },
      "source": [
        "model.layers"
      ],
      "execution_count": 0,
      "outputs": [
        {
          "output_type": "execute_result",
          "data": {
            "text/plain": [
              "[<keras.layers.convolutional.Conv2D at 0x7f3756b4f2e8>,\n",
              " <keras.layers.convolutional.Conv2D at 0x7f3756b4ff60>,\n",
              " <keras.layers.pooling.MaxPooling2D at 0x7f375702b198>,\n",
              " <keras.layers.convolutional.Conv2D at 0x7f3756b4fba8>,\n",
              " <keras.layers.core.Flatten at 0x7f3757698f60>,\n",
              " <keras.layers.core.Dropout at 0x7f37571806a0>,\n",
              " <keras.layers.core.Dense at 0x7f37571a2ef0>,\n",
              " <keras.layers.core.Activation at 0x7f37571a2860>,\n",
              " <keras.layers.core.Dense at 0x7f3756ad19e8>,\n",
              " <keras.layers.core.Activation at 0x7f3756ad1438>]"
            ]
          },
          "metadata": {
            "tags": []
          },
          "execution_count": 83
        }
      ]
    },
    {
      "cell_type": "code",
      "metadata": {
        "id": "xkvgxaZTelje",
        "colab_type": "code",
        "outputId": "e32ca364-6eae-44e9-ea08-7542586c419d",
        "colab": {
          "base_uri": "https://localhost:8080/",
          "height": 190
        }
      },
      "source": [
        "for layer in model.layers[:6]:   #we want to transfer first 6 layers upto dropout \n",
        "  layer.trainable=False\n",
        "  \n",
        "for layer in model.layers:\n",
        "  print(layer.trainable)"
      ],
      "execution_count": 0,
      "outputs": [
        {
          "output_type": "stream",
          "text": [
            "False\n",
            "False\n",
            "False\n",
            "False\n",
            "False\n",
            "False\n",
            "True\n",
            "True\n",
            "True\n",
            "True\n"
          ],
          "name": "stdout"
        }
      ]
    },
    {
      "cell_type": "code",
      "metadata": {
        "id": "Reg-wMLOfA1v",
        "colab_type": "code",
        "outputId": "bfc34526-7e79-4067-a6a0-b6ee57de7c70",
        "colab": {
          "base_uri": "https://localhost:8080/",
          "height": 484
        }
      },
      "source": [
        "trans_model=Sequential(model.layers[:6])\n",
        "\n",
        "trans_model.add(Dense(128))\n",
        "trans_model.add(Activation('relu'))\n",
        "trans_model.add(Dense(10))\n",
        "trans_model.add(Activation('softmax'))\n",
        "\n",
        "trans_model.summary()"
      ],
      "execution_count": 0,
      "outputs": [
        {
          "output_type": "stream",
          "text": [
            "_________________________________________________________________\n",
            "Layer (type)                 Output Shape              Param #   \n",
            "=================================================================\n",
            "conv2d_16 (Conv2D)           (None, 24, 24, 32)        832       \n",
            "_________________________________________________________________\n",
            "conv2d_17 (Conv2D)           (None, 20, 20, 16)        12816     \n",
            "_________________________________________________________________\n",
            "max_pooling2d_5 (MaxPooling2 (None, 10, 10, 16)        0         \n",
            "_________________________________________________________________\n",
            "conv2d_18 (Conv2D)           (None, 8, 8, 8)           1160      \n",
            "_________________________________________________________________\n",
            "flatten_5 (Flatten)          (None, 512)               0         \n",
            "_________________________________________________________________\n",
            "dropout_5 (Dropout)          (None, 512)               0         \n",
            "_________________________________________________________________\n",
            "dense_17 (Dense)             (None, 128)               65664     \n",
            "_________________________________________________________________\n",
            "activation_17 (Activation)   (None, 128)               0         \n",
            "_________________________________________________________________\n",
            "dense_18 (Dense)             (None, 10)                1290      \n",
            "_________________________________________________________________\n",
            "activation_18 (Activation)   (None, 10)                0         \n",
            "=================================================================\n",
            "Total params: 81,762\n",
            "Trainable params: 66,954\n",
            "Non-trainable params: 14,808\n",
            "_________________________________________________________________\n"
          ],
          "name": "stdout"
        }
      ]
    },
    {
      "cell_type": "code",
      "metadata": {
        "id": "iMmQ0KZ3gMlg",
        "colab_type": "code",
        "colab": {}
      },
      "source": [
        "trans_model.compile(loss='categorical_crossentropy',\n",
        "                    optimizer='adam',\n",
        "                    metrics=['accuracy']\n",
        "                   )"
      ],
      "execution_count": 0,
      "outputs": []
    },
    {
      "cell_type": "code",
      "metadata": {
        "id": "RqU0TiAXghaN",
        "colab_type": "code",
        "outputId": "495b9cc9-afa0-44cd-b729-c765ad98137e",
        "colab": {
          "base_uri": "https://localhost:8080/",
          "height": 432
        }
      },
      "source": [
        "start =datetime.datetime.now()\n",
        "\n",
        "trans_model.fit(X2_train,Y2_train,\n",
        "                nb_epoch=10,\n",
        "                shuffle=True,\n",
        "                batch_size=100,\n",
        "                verbose=2,\n",
        "                validation_data=(X2_test,Y2_test)\n",
        "                \n",
        "                )\n",
        "\n",
        "end=datetime.datetime.now()\n",
        "print(end-start)"
      ],
      "execution_count": 0,
      "outputs": [
        {
          "output_type": "stream",
          "text": [
            "/usr/local/lib/python3.6/dist-packages/ipykernel_launcher.py:8: UserWarning: The `nb_epoch` argument in `fit` has been renamed `epochs`.\n",
            "  \n"
          ],
          "name": "stderr"
        },
        {
          "output_type": "stream",
          "text": [
            "Train on 9775 samples, validate on 4861 samples\n",
            "Epoch 1/10\n",
            " - 7s - loss: 0.3182 - acc: 0.8934 - val_loss: 0.0803 - val_acc: 0.9755\n",
            "Epoch 2/10\n",
            " - 6s - loss: 0.1002 - acc: 0.9673 - val_loss: 0.0648 - val_acc: 0.9813\n",
            "Epoch 3/10\n",
            " - 6s - loss: 0.0807 - acc: 0.9733 - val_loss: 0.0470 - val_acc: 0.9827\n",
            "Epoch 4/10\n",
            " - 6s - loss: 0.0722 - acc: 0.9757 - val_loss: 0.0462 - val_acc: 0.9829\n",
            "Epoch 5/10\n",
            " - 6s - loss: 0.0625 - acc: 0.9788 - val_loss: 0.0402 - val_acc: 0.9866\n",
            "Epoch 6/10\n",
            " - 6s - loss: 0.0583 - acc: 0.9809 - val_loss: 0.0363 - val_acc: 0.9872\n",
            "Epoch 7/10\n",
            " - 6s - loss: 0.0567 - acc: 0.9810 - val_loss: 0.0343 - val_acc: 0.9879\n",
            "Epoch 8/10\n",
            " - 6s - loss: 0.0537 - acc: 0.9811 - val_loss: 0.0325 - val_acc: 0.9887\n",
            "Epoch 9/10\n",
            " - 6s - loss: 0.0453 - acc: 0.9856 - val_loss: 0.0313 - val_acc: 0.9897\n",
            "Epoch 10/10\n",
            " - 6s - loss: 0.0416 - acc: 0.9856 - val_loss: 0.0288 - val_acc: 0.9895\n",
            "0:01:01.598854\n"
          ],
          "name": "stdout"
        }
      ]
    },
    {
      "cell_type": "code",
      "metadata": {
        "id": "xKtYmB4ygwOm",
        "colab_type": "code",
        "colab": {}
      },
      "source": [
        ""
      ],
      "execution_count": 0,
      "outputs": []
    }
  ]
}